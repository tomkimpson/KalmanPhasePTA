{
 "cells": [
  {
   "cell_type": "code",
   "execution_count": 1,
   "metadata": {},
   "outputs": [],
   "source": [
    "%load_ext autoreload\n",
    "%autoreload 2"
   ]
  },
  {
   "cell_type": "code",
   "execution_count": 2,
   "metadata": {},
   "outputs": [],
   "source": [
    "import sys\n",
    "try:\n",
    "    sys.path.remove(\"../src\") # Remove src if already exists \n",
    "except:\n",
    "    pass\n",
    "sys.path.append(\"../src\") # Means that I dont have to make src/ a proper python package"
   ]
  },
  {
   "cell_type": "code",
   "execution_count": 4,
   "metadata": {},
   "outputs": [],
   "source": [
    "from system_parameters import SystemParameters\n",
    "from pulsars import Pulsars\n",
    "from synthetic_data import SyntheticData\n"
   ]
  },
  {
   "cell_type": "code",
   "execution_count": 5,
   "metadata": {},
   "outputs": [],
   "source": [
    "P   = SystemParameters(seed = 1)    # User-specifed system parameters\n",
    "PTA = Pulsars(P)            # All pulsar-related quantities\n",
    "data = SyntheticData(PTA,P) # Given the user parameters and the PTA configuration, create some synthetic data    "
   ]
  },
  {
   "cell_type": "code",
   "execution_count": 6,
   "metadata": {},
   "outputs": [],
   "source": [
    "P   = SystemParameters(seed = 1)    # User-specifed system parameters\n",
    "PTA = Pulsars(P)            # All pulsar-related quantities\n",
    "data = SyntheticData(PTA,P) # Given the user parameters and the PTA configuration, create some synthetic data    "
   ]
  },
  {
   "cell_type": "code",
   "execution_count": null,
   "metadata": {},
   "outputs": [],
   "source": []
  }
 ],
 "metadata": {
  "kernelspec": {
   "display_name": "KalmanPhasePTA",
   "language": "python",
   "name": "python3"
  },
  "language_info": {
   "codemirror_mode": {
    "name": "ipython",
    "version": 3
   },
   "file_extension": ".py",
   "mimetype": "text/x-python",
   "name": "python",
   "nbconvert_exporter": "python",
   "pygments_lexer": "ipython3",
   "version": "3.9.18"
  }
 },
 "nbformat": 4,
 "nbformat_minor": 2
}
