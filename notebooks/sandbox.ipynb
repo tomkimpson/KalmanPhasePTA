{
 "cells": [
  {
   "cell_type": "code",
   "execution_count": 1,
   "metadata": {},
   "outputs": [],
   "source": [
    "%load_ext autoreload\n",
    "%autoreload 2"
   ]
  },
  {
   "cell_type": "code",
   "execution_count": 2,
   "metadata": {},
   "outputs": [],
   "source": [
    "import sys\n",
    "try:\n",
    "    sys.path.remove(\"../src\") # Remove src if already exists \n",
    "except:\n",
    "    pass\n",
    "sys.path.append(\"../src\") # Means that I dont have to make src/ a proper python package"
   ]
  },
  {
   "cell_type": "code",
   "execution_count": 4,
   "metadata": {},
   "outputs": [],
   "source": [
    "from system_parameters import SystemParameters\n",
    "from pulsars import Pulsars\n",
    "from synthetic_data import SyntheticData\n"
   ]
  },
  {
   "cell_type": "code",
   "execution_count": 5,
   "metadata": {},
   "outputs": [],
   "source": [
    "P   = SystemParameters(seed = 1)    # User-specifed system parameters\n",
    "PTA = Pulsars(P)            # All pulsar-related quantities\n",
    "data = SyntheticData(PTA,P) # Given the user parameters and the PTA configuration, create some synthetic data    "
   ]
  },
  {
   "cell_type": "code",
   "execution_count": 6,
   "metadata": {},
   "outputs": [],
   "source": [
    "P   = SystemParameters(seed = 1)    # User-specifed system parameters\n",
    "PTA = Pulsars(P)            # All pulsar-related quantities\n",
    "data = SyntheticData(PTA,P) # Given the user parameters and the PTA configuration, create some synthetic data    "
   ]
  },
  {
   "cell_type": "code",
   "execution_count": 3,
   "metadata": {},
   "outputs": [],
   "source": [
    "import numpy as np \n",
    "N=10\n",
    "some_vector = np.random.uniform(size=N)\n"
   ]
  },
  {
   "cell_type": "code",
   "execution_count": 4,
   "metadata": {},
   "outputs": [
    {
     "data": {
      "text/plain": [
       "array([0.16720933, 0.63974939, 0.68275526, 0.80835399, 0.62061196,\n",
       "       0.11362774, 0.27961194, 0.33887051, 0.22407039, 0.34180782])"
      ]
     },
     "execution_count": 4,
     "metadata": {},
     "output_type": "execute_result"
    }
   ],
   "source": [
    "some_vector"
   ]
  },
  {
   "cell_type": "code",
   "execution_count": 6,
   "metadata": {},
   "outputs": [],
   "source": [
    "T = 500 \n",
    "some_vector = np.random.uniform(size=(N,T)) \n"
   ]
  },
  {
   "cell_type": "code",
   "execution_count": 7,
   "metadata": {},
   "outputs": [
    {
     "data": {
      "text/plain": [
       "array([[0.66767307, 0.61487522, 0.21723765, ..., 0.66156684, 0.23224747,\n",
       "        0.2854903 ],\n",
       "       [0.02072283, 0.08488915, 0.10038556, ..., 0.42694101, 0.8816534 ,\n",
       "        0.87713387],\n",
       "       [0.02591417, 0.0493865 , 0.89106872, ..., 0.36189387, 0.80964674,\n",
       "        0.48142856],\n",
       "       ...,\n",
       "       [0.38119723, 0.04546863, 0.22183013, ..., 0.90675013, 0.94042949,\n",
       "        0.10804082],\n",
       "       [0.57236049, 0.55125897, 0.70764524, ..., 0.27382096, 0.36658333,\n",
       "        0.27536448],\n",
       "       [0.28326286, 0.67206613, 0.92045931, ..., 0.91487571, 0.46367135,\n",
       "        0.5900729 ]])"
      ]
     },
     "execution_count": 7,
     "metadata": {},
     "output_type": "execute_result"
    }
   ],
   "source": [
    "some_vector"
   ]
  },
  {
   "cell_type": "code",
   "execution_count": null,
   "metadata": {},
   "outputs": [],
   "source": []
  }
 ],
 "metadata": {
  "kernelspec": {
   "display_name": "KalmanPhasePTA",
   "language": "python",
   "name": "python3"
  },
  "language_info": {
   "codemirror_mode": {
    "name": "ipython",
    "version": 3
   },
   "file_extension": ".py",
   "mimetype": "text/x-python",
   "name": "python",
   "nbconvert_exporter": "python",
   "pygments_lexer": "ipython3",
   "version": "3.10.4"
  }
 },
 "nbformat": 4,
 "nbformat_minor": 2
}
