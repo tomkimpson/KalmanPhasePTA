{
 "cells": [
  {
   "cell_type": "code",
   "execution_count": 3,
   "metadata": {},
   "outputs": [],
   "source": [
    "%load_ext autoreload\n",
    "%autoreload 2"
   ]
  },
  {
   "cell_type": "code",
   "execution_count": 4,
   "metadata": {},
   "outputs": [],
   "source": [
    "import sys\n",
    "try:\n",
    "    sys.path.remove(\"../src\") # Remove src if already exists \n",
    "except:\n",
    "    pass\n",
    "sys.path.append(\"../src\") # Means that I dont have to make src/ a proper python package"
   ]
  },
  {
   "cell_type": "code",
   "execution_count": 11,
   "metadata": {},
   "outputs": [],
   "source": [
    "from system_parameters import SystemParameters\n",
    "from pulsars import Pulsars\n",
    "from synthetic_data import SyntheticData\n",
    "from model import  PhaseModel\n",
    "from kalman_filter import KalmanFilter"
   ]
  },
  {
   "cell_type": "code",
   "execution_count": 12,
   "metadata": {},
   "outputs": [],
   "source": [
    "P   = SystemParameters(seed = 1)    # User-specifed system parameters\n",
    "PTA = Pulsars(P)            # All pulsar-related quantities\n",
    "data = SyntheticData(PTA,P) # Given the user parameters and the PTA configuration, create some synthetic data    "
   ]
  },
  {
   "cell_type": "code",
   "execution_count": 13,
   "metadata": {},
   "outputs": [],
   "source": [
    "#Define the model to be used by the Kalman Filter\n",
    "model = PhaseModel(P,PTA)\n",
    "    \n",
    "    \n",
    "#Initialise the Kalman filter\n",
    "KF = KalmanFilter(model,data.phi_measured,PTA)"
   ]
  },
  {
   "cell_type": "code",
   "execution_count": 15,
   "metadata": {},
   "outputs": [],
   "source": [
    "F = KF.F \n",
    "sigma_p = 1e-20\n",
    "Q = KF.Q*sigma_p**2 "
   ]
  },
  {
   "cell_type": "code",
   "execution_count": null,
   "metadata": {},
   "outputs": [],
   "source": []
  }
 ],
 "metadata": {
  "kernelspec": {
   "display_name": "KalmanPhasePTA",
   "language": "python",
   "name": "python3"
  },
  "language_info": {
   "codemirror_mode": {
    "name": "ipython",
    "version": 3
   },
   "file_extension": ".py",
   "mimetype": "text/x-python",
   "name": "python",
   "nbconvert_exporter": "python",
   "pygments_lexer": "ipython3",
   "version": "3.10.4"
  }
 },
 "nbformat": 4,
 "nbformat_minor": 2
}
