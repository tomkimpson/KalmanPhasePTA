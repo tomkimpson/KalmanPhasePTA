{
 "cells": [
  {
   "cell_type": "code",
   "execution_count": 10,
   "metadata": {},
   "outputs": [
    {
     "name": "stdout",
     "output_type": "stream",
     "text": [
      "The autoreload extension is already loaded. To reload it, use:\n",
      "  %reload_ext autoreload\n"
     ]
    }
   ],
   "source": [
    "%load_ext autoreload\n",
    "%autoreload 2"
   ]
  },
  {
   "cell_type": "code",
   "execution_count": 11,
   "metadata": {},
   "outputs": [],
   "source": [
    "import sys\n",
    "try:\n",
    "    sys.path.remove(\"../src\") # Remove src if already exists \n",
    "except:\n",
    "    pass\n",
    "sys.path.append(\"../src\") # Means that I dont have to make src/ a proper python package"
   ]
  },
  {
   "cell_type": "code",
   "execution_count": 12,
   "metadata": {},
   "outputs": [
    {
     "name": "stderr",
     "output_type": "stream",
     "text": [
      "INFO:root:Welcome to the Kalman Filter Nested Sampler for PTA GW systems\n",
      "INFO:root:Random seed is 1234\n",
      "INFO:root:The values for χ are as follows: [0.52094514 0.43862898]\n",
      "INFO:root:You are using the Pulsar terms measurement model\n",
      "INFO:root:Setting the bilby priors dict\n",
      "INFO:root:Setting fully informative priors on GW parameters\n",
      "INFO:root:Setting fully informative priors on PSR parameters\n"
     ]
    }
   ],
   "source": [
    "from system_parameters import SystemParameters\n",
    "from pulsars import Pulsars\n",
    "from synthetic_data import SyntheticData\n",
    "from model_optimised import PhaseModel\n",
    "from kalman_filter import KalmanFilter\n",
    "from priors import bilby_priors_dict\n",
    "\n",
    "\n",
    "P   = SystemParameters(Npsr=2,σm=5e-11)    # User-specifed system parameters\n",
    "PTA = Pulsars(P)            # All pulsar-related quantities\n",
    "data = SyntheticData(PTA,P) # Given the user parameters and the PTA configuration, create some synthetic data\n",
    "\n",
    "#Define the model to be used by the Kalman Filter\n",
    "model = PhaseModel(P,PTA)\n",
    "\n",
    "\n",
    "#Initialise the Kalman filter\n",
    "KF = KalmanFilter(model,data.phi_measured,PTA)\n",
    "\n",
    "#Run the KF with the correct parameters.\n",
    "#We get the correct parameters via Bilby dictionary, looking towards when we will run this with nested sampling\n",
    "import numpy as np \n",
    "\n",
    "init_parameters,constrained_prior = bilby_priors_dict(PTA,P,set_state_parameters_as_known=True,set_measurement_parameters_as_known=True)\n",
    "optimal_parameters = constrained_prior.sample(1)\n",
    "ll = KF.likelihood(optimal_parameters)"
   ]
  },
  {
   "cell_type": "code",
   "execution_count": null,
   "metadata": {},
   "outputs": [],
   "source": []
  }
 ],
 "metadata": {
  "kernelspec": {
   "display_name": "KalmanGW",
   "language": "python",
   "name": "python3"
  },
  "language_info": {
   "codemirror_mode": {
    "name": "ipython",
    "version": 3
   },
   "file_extension": ".py",
   "mimetype": "text/x-python",
   "name": "python",
   "nbconvert_exporter": "python",
   "pygments_lexer": "ipython3",
   "version": "3.10.4"
  }
 },
 "nbformat": 4,
 "nbformat_minor": 2
}
