{
 "cells": [
  {
   "cell_type": "code",
   "execution_count": 1,
   "metadata": {},
   "outputs": [],
   "source": [
    "%load_ext autoreload\n",
    "%autoreload 2"
   ]
  },
  {
   "cell_type": "code",
   "execution_count": 2,
   "metadata": {},
   "outputs": [],
   "source": [
    "import sys\n",
    "try:\n",
    "    sys.path.remove(\"../src\") # Remove src if already exists \n",
    "except:\n",
    "    pass\n",
    "sys.path.append(\"../src\") # Means that I dont have to make src/ a proper python package"
   ]
  },
  {
   "cell_type": "code",
   "execution_count": 3,
   "metadata": {},
   "outputs": [],
   "source": [
    "from system_parameters import SystemParameters\n",
    "from pulsars import Pulsars\n",
    "from synthetic_data import SyntheticData\n",
    "\n",
    "P   = SystemParameters()    # User-specifed system parameters\n",
    "PTA = Pulsars(P)            # All pulsar-related quantities\n",
    "data = SyntheticData(PTA,P) # Given the user parameters and the PTA configuration, create some synthetic data    "
   ]
  },
  {
   "cell_type": "code",
   "execution_count": 4,
   "metadata": {},
   "outputs": [
    {
     "name": "stderr",
     "output_type": "stream",
     "text": [
      "INFO:root:Welcome to the Kalman Filter Nested Sampler for PTA GW systems\n",
      "INFO:root:Random seed is 1234\n",
      "INFO:root:The values for χ are as follows: [2.20508423 3.73837182 4.64342782 3.84454169 2.03147765 2.1615264\n",
      " 2.7393055  0.29304713 0.52094514 2.6468707  0.75625183 2.69753421\n",
      " 4.72535501 1.80480547 1.22838701 1.52531055 0.95286369 5.88509644\n",
      " 3.21021583 0.04719118 5.83980336 2.18004167 3.37310913 4.83324786\n",
      " 5.11353816 2.16383243 4.41393604 2.9784791  2.82463386 4.82152681\n",
      " 6.10798125 5.59964568 1.81245195 4.24446491 5.69068483 5.94022957\n",
      " 4.96810897 3.3210893  5.35316912 4.61872321 2.78637006 0.43819632\n",
      " 3.62569269 3.79912049 5.5055721  2.39926347 0.43862898]\n",
      "INFO:root:You are using the Pulsar terms measurement model\n",
      "INFO:root:Setting the bilby priors dict\n",
      "INFO:root:Setting fully informative priors on GW parameters\n",
      "INFO:root:Setting fully informative priors on PSR parameters\n"
     ]
    }
   ],
   "source": [
    "from system_parameters import SystemParameters\n",
    "from pulsars import Pulsars\n",
    "from synthetic_data import SyntheticData\n",
    "from model import PhaseModel\n",
    "from kalman_filter import KalmanFilter\n",
    "from priors import bilby_priors_dict\n",
    "\n",
    "\n",
    "P   = SystemParameters(σm=5e-11)    # User-specifed system parameters\n",
    "PTA = Pulsars(P)            # All pulsar-related quantities\n",
    "data = SyntheticData(PTA,P) # Given the user parameters and the PTA configuration, create some synthetic data\n",
    "\n",
    "#Define the model to be used by the Kalman Filter\n",
    "model = PhaseModel(P,PTA)\n",
    "\n",
    "\n",
    "#Initialise the Kalman filter\n",
    "KF = KalmanFilter(model,data.phi_measured,PTA)\n",
    "\n",
    "#Run the KF with the correct parameters.\n",
    "#We get the correct parameters via Bilby dictionary, looking towards when we will run this with nested sampling\n",
    "import numpy as np \n",
    "\n",
    "init_parameters,constrained_prior = bilby_priors_dict(PTA,P,set_state_parameters_as_known=True,set_measurement_parameters_as_known=True)\n",
    "optimal_parameters = constrained_prior.sample(1)\n",
    "ll = KF.likelihood_plotter(optimal_parameters)"
   ]
  },
  {
   "cell_type": "code",
   "execution_count": null,
   "metadata": {},
   "outputs": [],
   "source": []
  }
 ],
 "metadata": {
  "kernelspec": {
   "display_name": "KalmanGW",
   "language": "python",
   "name": "python3"
  },
  "language_info": {
   "codemirror_mode": {
    "name": "ipython",
    "version": 3
   },
   "file_extension": ".py",
   "mimetype": "text/x-python",
   "name": "python",
   "nbconvert_exporter": "python",
   "pygments_lexer": "ipython3",
   "version": "3.10.4"
  }
 },
 "nbformat": 4,
 "nbformat_minor": 2
}
